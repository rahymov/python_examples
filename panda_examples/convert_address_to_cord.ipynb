{
 "cells": [
  {
   "cell_type": "code",
   "execution_count": 2,
   "id": "01a89777",
   "metadata": {},
   "outputs": [
    {
     "data": {
      "text/plain": [
       "['.DS_Store',\n",
       " 'pandas_example_1.py.ipynb',\n",
       " 'load_excel_txt.ipynb',\n",
       " 'convert_to_cordinates.ipynb',\n",
       " 'Readme.md',\n",
       " 'pandas_web_scaping_1.py.ipynb',\n",
       " 'supermarkets',\n",
       " 'convert_address_to_cord.ipynb',\n",
       " '.ipynb_checkpoints',\n",
       " 'supermarket_load_example1.ipynb']"
      ]
     },
     "execution_count": 2,
     "metadata": {},
     "output_type": "execute_result"
    }
   ],
   "source": [
    "import os\n",
    "os.listdir()"
   ]
  },
  {
   "cell_type": "code",
   "execution_count": null,
   "id": "4efd6932",
   "metadata": {},
   "outputs": [],
   "source": []
  }
 ],
 "metadata": {
  "kernelspec": {
   "display_name": "Python 3 (ipykernel)",
   "language": "python",
   "name": "python3"
  },
  "language_info": {
   "codemirror_mode": {
    "name": "ipython",
    "version": 3
   },
   "file_extension": ".py",
   "mimetype": "text/x-python",
   "name": "python",
   "nbconvert_exporter": "python",
   "pygments_lexer": "ipython3",
   "version": "3.9.7"
  }
 },
 "nbformat": 4,
 "nbformat_minor": 5
}
