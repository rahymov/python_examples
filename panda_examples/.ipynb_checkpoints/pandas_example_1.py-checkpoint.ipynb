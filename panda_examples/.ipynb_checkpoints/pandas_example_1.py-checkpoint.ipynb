{
 "cells": [
  {
   "cell_type": "code",
   "execution_count": 2,
   "id": "a7e446ba",
   "metadata": {},
   "outputs": [],
   "source": [
    "import pandas\n",
    "df1 = pandas.DataFrame(\n",
    "    [\n",
    "        {\"Name\": \"Italmaz\", \"Lastname\": \"Jorayew\"},\n",
    "        {\"Name\": \"Tapjangul\", \"Lastname\": \"Gulowa\"},\n",
    "    ]\n",
    ")"
   ]
  },
  {
   "cell_type": "code",
   "execution_count": 3,
   "id": "05882450",
   "metadata": {},
   "outputs": [
    {
     "name": "stdout",
     "output_type": "stream",
     "text": [
      "        Name Lastname\n",
      "0    Italmaz  Jorayew\n",
      "1  Tapjangul   Gulowa\n"
     ]
    }
   ],
   "source": [
    "print(df1)"
   ]
  },
  {
   "cell_type": "code",
   "execution_count": null,
   "id": "de668009",
   "metadata": {},
   "outputs": [],
   "source": []
  }
 ],
 "metadata": {
  "kernelspec": {
   "display_name": "Python 3 (ipykernel)",
   "language": "python",
   "name": "python3"
  },
  "language_info": {
   "codemirror_mode": {
    "name": "ipython",
    "version": 3
   },
   "file_extension": ".py",
   "mimetype": "text/x-python",
   "name": "python",
   "nbconvert_exporter": "python",
   "pygments_lexer": "ipython3",
   "version": "3.9.7"
  }
 },
 "nbformat": 4,
 "nbformat_minor": 5
}
